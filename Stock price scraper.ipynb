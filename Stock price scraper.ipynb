{
 "cells": [
  {
   "cell_type": "code",
   "execution_count": 1,
   "metadata": {},
   "outputs": [],
   "source": [
    "import pandas as pd\n",
    "import datetime as dt\n",
    "import numpy as np\n",
    "from time import sleep\n",
    "from alpha_vantage.timeseries import TimeSeries\n",
    "import sys"
   ]
  },
  {
   "cell_type": "code",
   "execution_count": 2,
   "metadata": {},
   "outputs": [],
   "source": [
    "def get_stock_data(symbol, startyear=2008, startmonth=1, endyear=2019, endmonth=10):\n",
    "    \n",
    "    \"\"\"\n",
    "    Obtains the stock data of the company identified by its stock symbol within the the given timeframe.\n",
    "    Uses the AlphaVantage API: https://www.alphavantage.co/\n",
    "    \n",
    "    \"\"\"\n",
    "    \n",
    "    key = 'BWT9OO9T59N87MUI'\n",
    "    ts = TimeSeries(key)\n",
    "    try:\n",
    "        adjusted_results, meta = ts.get_daily_adjusted(symbol=symbol, outputsize='full')\n",
    "    except:\n",
    "        return 0\n",
    "    \n",
    "    data_rows = []\n",
    "    \n",
    "    for year in range(startyear, endyear + 1):\n",
    "        if year == startyear and startmonth != 1:\n",
    "            for month in range(startmonth, 13):\n",
    "                if year == endyear and month == endmonth + 1:\n",
    "                    break\n",
    "                for day in range(1, 32):\n",
    "                    try:\n",
    "                        dt.datetime(year, month, day)\n",
    "                        date = f'{year}-{month:02}-{day:02}'\n",
    "                        data_rows.append([year, month, day, adjusted_results[date]['5. adjusted close']])\n",
    "                    except Exception as e:\n",
    "                        continue\n",
    "        else: \n",
    "            for month in range(1, 13):\n",
    "                if year == endyear and month == endmonth + 1:\n",
    "                    break\n",
    "                for day in range(1, 32):\n",
    "                    try:\n",
    "                        dt.datetime(year, month, day)\n",
    "                        date = f'{year}-{month:02}-{day:02}'\n",
    "                        data_rows.append([year, month, day, adjusted_results[date]['5. adjusted close']])\n",
    "                    except Exception as e:\n",
    "                        continue\n",
    "                        \n",
    "    return pd.DataFrame(data_rows, columns=['Year', 'Month', 'Day', 'Adjusted close price'])"
   ]
  },
  {
   "cell_type": "code",
   "execution_count": 16,
   "metadata": {},
   "outputs": [],
   "source": [
    "company_name = sys.argv[1]\n",
    "symbol = sys.argv[2]\n",
    "combined_df = pd.read_csv('Stock data.csv', index_col=0)\n",
    "new_df = get_stock_data(symbol)\n",
    "if new_df is 0:\n",
    "    print(\"ERROR: Invalid company symbol '\", symbol, \"'\", sep='')\n",
    "else:\n",
    "    new_data = new_df['Adjusted close price'].tolist()\n",
    "    if any([combined_df.iloc[:, i].tolist() == new_data for i in range(3, len(combined_df.columns))]):\n",
    "        print('Company is already in DataFrame')\n",
    "    else:\n",
    "        combined_df[company_name] = new_data\n",
    "        combined_df.to_csv('Stock data.csv')"
   ]
  }
 ],
 "metadata": {
  "kernelspec": {
   "display_name": "Python 3",
   "language": "python",
   "name": "python3"
  },
  "language_info": {
   "codemirror_mode": {
    "name": "ipython",
    "version": 3
   },
   "file_extension": ".py",
   "mimetype": "text/x-python",
   "name": "python",
   "nbconvert_exporter": "python",
   "pygments_lexer": "ipython3",
   "version": "3.7.1"
  }
 },
 "nbformat": 4,
 "nbformat_minor": 2
}
