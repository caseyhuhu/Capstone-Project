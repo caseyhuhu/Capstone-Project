{
 "cells": [
  {
   "cell_type": "code",
   "execution_count": 69,
   "metadata": {},
   "outputs": [],
   "source": [
    "import pandas as pd\n",
    "import datetime as dt\n",
    "import numpy as np\n",
    "from time import sleep\n",
    "from alpha_vantage.timeseries import TimeSeries\n",
    "import sys"
   ]
  },
  {
   "cell_type": "code",
   "execution_count": 68,
   "metadata": {},
   "outputs": [],
   "source": [
    "def get_stock_data(symbol, startyear=2008, startmonth=1, endyear=2019, endmonth=10):\n",
    "    \n",
    "    \"\"\"\n",
    "    Obtains the stock data of the company identified by its stock symbol within the the given timeframe.\n",
    "    Uses the AlphaVantage API: https://www.alphavantage.co/\n",
    "    \n",
    "    \"\"\"\n",
    "    \n",
    "    key = 'BWT9OO9T59N87MUI'\n",
    "    ts = TimeSeries(key)\n",
    "    sleep(13)\n",
    "    try:\n",
    "        adjusted_results, meta = ts.get_daily_adjusted(symbol=symbol, outputsize='full')\n",
    "    except:\n",
    "        return 0\n",
    "    \n",
    "    data_rows = []\n",
    "    \n",
    "    for year in range(startyear, endyear + 1):\n",
    "        if year == startyear and startmonth != 1:\n",
    "            for month in range(startmonth, 13):\n",
    "                if year == endyear and month == endmonth + 1:\n",
    "                    break\n",
    "                for day in range(1, 32):\n",
    "                    try:\n",
    "                        dt.datetime(year, month, day)\n",
    "                        date = f'{year}-{month:02}-{day:02}'\n",
    "                        data_rows.append([year, month, day, adjusted_results[date]['5. adjusted close']])\n",
    "                    except Exception as e:\n",
    "                        continue\n",
    "        else: \n",
    "            for month in range(1, 13):\n",
    "                if year == endyear and month == endmonth + 1:\n",
    "                    break\n",
    "                for day in range(1, 32):\n",
    "                    try:\n",
    "                        dt.datetime(year, month, day)\n",
    "                        date = f'{year}-{month:02}-{day:02}'\n",
    "                        data_rows.append([year, month, day, adjusted_results[date]['5. adjusted close']])\n",
    "                    except Exception as e:\n",
    "                        continue\n",
    "                        \n",
    "    return pd.DataFrame(data_rows, columns=['Year', 'Month', 'Day', 'Adjusted close price'])"
   ]
  },
  {
   "cell_type": "code",
   "execution_count": 76,
   "metadata": {},
   "outputs": [],
   "source": [
    "def add_stock_data(symbol_list):\n",
    "    \n",
    "    \"\"\"\n",
    "    Uses get_stock_data to add the stock data from the given companies \n",
    "    (in the form of a list of stock symbols) to 'Stock data.csv'\n",
    "    \n",
    "    \"\"\"\n",
    "    \n",
    "    company_count = 0\n",
    "    for symbol in symbol_list:\n",
    "        if symbol in combined_df.columns:\n",
    "            continue\n",
    "        else:\n",
    "            new_df = get_stock_data(symbol)\n",
    "            if new_df is 0:\n",
    "                continue\n",
    "            else:\n",
    "                new_data = new_df['Adjusted close price'].tolist()\n",
    "                combined_df[symbol] = new_data\n",
    "        company_count += 1\n",
    "        if company_count % 5 == 0:\n",
    "            sleep(65) # We are limited to 5 calls to AlphaVantage per minute\n",
    "    combined_df.to_csv('Stock data.csv')"
   ]
  },
  {
   "cell_type": "code",
   "execution_count": 75,
   "metadata": {},
   "outputs": [],
   "source": [
    "arg = sys.argv[1]\n",
    "combined_df = pd.read_csv('Stock data.csv', index_col=0)\n",
    "\n",
    "# Is input given in the form of a CSV of EDGAR data or as a list of comma-separated symbols?\n",
    "if arg.lower().endswith('.csv'):\n",
    "    df = pd.read_csv(arg) # New DataFrame with the users' companies' data. Stock prices are the last columns\n",
    "    if df.columns.tolist()[0] == 'Unnamed: 0':\n",
    "        df = pd.read_csv(arg, index_col=0)\n",
    "    symbol_list = []\n",
    "    for col in df.columns:\n",
    "        if 'Stock price' in col:\n",
    "            symbol_list.append(col.replace('Stock price_',''))\n",
    "else:\n",
    "    symbol_list = arg.split(',')\n",
    "    for i in range(len(symbol_list)):\n",
    "        symbol_list[i] = symbol_list[i].strip()\n",
    "\n",
    "add_stock_data(symbol_list)"
   ]
  }
 ],
 "metadata": {
  "kernelspec": {
   "display_name": "Python 3",
   "language": "python",
   "name": "python3"
  },
  "language_info": {
   "codemirror_mode": {
    "name": "ipython",
    "version": 3
   },
   "file_extension": ".py",
   "mimetype": "text/x-python",
   "name": "python",
   "nbconvert_exporter": "python",
   "pygments_lexer": "ipython3",
   "version": "3.7.1"
  }
 },
 "nbformat": 4,
 "nbformat_minor": 2
}
