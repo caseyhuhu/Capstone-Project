{
 "cells": [
  {
   "cell_type": "code",
   "execution_count": 4,
   "metadata": {},
   "outputs": [],
   "source": [
    "import pandas as pd\n",
    "import sys"
   ]
  },
  {
   "cell_type": "code",
   "execution_count": 25,
   "metadata": {},
   "outputs": [],
   "source": [
    "# Combines two CSV given as arguments in the command line\n",
    "orig_df = pd.read_csv(sys.argv[1]) # DataFrame with our original 9 companies' data. Stock prices are the last 9 columns\n",
    "new_df = pd.read_csv(sys.argv[2]) # New DataFrame with the users' companies' data. Stock prices are the last columns\n",
    "\n",
    "if len(new_df.columns) % 12 != 0:\n",
    "    print('ERROR: DataFrame must contain 12 features per company.')\n",
    "elif len(new_df) != len(orig_df):\n",
    "    print('ERROR: DataFrames must contain the same number of rows.')\n",
    "else:\n",
    "    num_companies = len(new_df.columns) / 12\n",
    "    combined_df = pd.concat([orig_df.iloc[:,:-9], new_df.iloc[:,:-num_companies], \n",
    "                             orig_df.iloc[:,-9:], new_df.iloc[:,-num_companies:]], axis=1)\n",
    "    combined_df.to_csv('Combined_data_user_input.csv')"
   ]
  }
 ],
 "metadata": {
  "kernelspec": {
   "display_name": "Python 3",
   "language": "python",
   "name": "python3"
  },
  "language_info": {
   "codemirror_mode": {
    "name": "ipython",
    "version": 3
   },
   "file_extension": ".py",
   "mimetype": "text/x-python",
   "name": "python",
   "nbconvert_exporter": "python",
   "pygments_lexer": "ipython3",
   "version": "3.7.1"
  }
 },
 "nbformat": 4,
 "nbformat_minor": 2
}
